{
 "cells": [
  {
   "cell_type": "markdown",
   "metadata": {},
   "source": [
    "# TinWidgets Tests\n",
    "`__version__ : '0.1.0'`\n",
    "\n",
    "## Features\n",
    "<input type=\"checkbox\"/> Outputwidget support</br>\n",
    "<input type=\"checkbox\"/> Slider interactivity \n",
    "\n",
    "## Dev \n",
    "Widget system: each artist can have properties that are synched with widgets values. This link is both sides. Additionally each Artist has a default behaviour with the output widget that does not need to be specifically implemented.\n",
    "So we have two things:\n",
    "- a general behaviour depending on artist's type with output widget, but the output widget is given\n",
    "- an instace specific link between an artist property and a widget value\n",
    "\n",
    "What is the best data structure to represent this?\n"
   ]
  },
  {
   "cell_type": "code",
   "execution_count": 1,
   "metadata": {},
   "outputs": [
    {
     "name": "stdout",
     "output_type": "stream",
     "text": [
      "tinwidgets version is 0.1.0, proceeding...\n"
     ]
    }
   ],
   "source": [
    "import sys\n",
    "sys.path.append('..')\n",
    "import tinwidgets as tinw\n",
    "import importlib\n",
    "\n",
    "importlib.reload(tinw)\n",
    "if tinw.__version__ != '0.1.0':\n",
    "    raise Exception('tinwidgets version is not 0.1.0, it is', tinw.__version__)\n",
    "else:\n",
    "    print('tinwidgets version is 0.1.0, proceeding...')"
   ]
  },
  {
   "cell_type": "code",
   "execution_count": 2,
   "metadata": {},
   "outputs": [
    {
     "data": {
      "application/vnd.jupyter.widget-view+json": {
       "model_id": "9a10f94eea3e499ea61fc78900a351ce",
       "version_major": 2,
       "version_minor": 0
      },
      "image/png": "[encoded data removed]",
      "text/html": [
       "\n",
       "            <div style=\"display: inline-block;\">\n",
       "                <div class=\"jupyter-widgets widget-label\" style=\"text-align: center;\">\n",
       "                    Figure\n",
       "                </div>\n",
       "                <img src='data:image/png;base64,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' width=500.0/>\n",
       "            </div>\n",
       "        "
      ],
      "text/plain": [
       "Canvas(toolbar=Toolbar(toolitems=[('Home', 'Reset original view', 'home', 'home'), ('Back', 'Back to previous …"
      ]
     },
     "metadata": {},
     "output_type": "display_data"
    }
   ],
   "source": [
    "''' \n",
    "This is the basic test to check if the package is working correctly.\n",
    "Nothing is changed from the last demo in 0.0.0_tests.ipynb, execpt \n",
    "dividing the code into modules.\n",
    "'''\n",
    "from test_utils import *\n",
    "import numpy as np\n",
    "import matplotlib.pyplot as plt\n",
    "from matplotlib.patches import Rectangle\n",
    "from matplotlib.lines import Line2D\n",
    "\n",
    "%matplotlib widget\n",
    "importlib.reload(tinw)\n",
    "\n",
    "import tinwidgets as tinw\n",
    "# prepare_env()\n",
    "\n",
    "with plt.ioff():\n",
    "    fig, ax = plt.subplots()\n",
    "\n",
    "x = np.linspace(0,5,30)\n",
    "y = np.sin(x)\n",
    "rect = Rectangle([0.5, 0.5], 5, 10, alpha=.3,\n",
    "                color = 'yellow', lw = 0)\n",
    "rect1 = Rectangle([1, 1], 5, 10, alpha=.3,\n",
    "                color = 'yellow', lw = 0)\n",
    "line = Line2D([0,1], [0,1])\n",
    "rect.set_picker(5)\n",
    "rect1.set_picker(5)\n",
    "line.set_picker(5)\n",
    "\n",
    "# adds the line to the axs objects\n",
    "# when calling ax.draw() the line \n",
    "# is drawn\n",
    "# NOTE: if line.animated is true then \n",
    "# ax.draw() will not draw the line,\n",
    "# the updates are handled manually\n",
    "ax.add_artist(rect)\n",
    "ax.add_artist(rect1)\n",
    "ax.add_line(line)\n",
    "ax.relim()\n",
    "ax.autoscale_view()\n",
    "fig.tight_layout()\n",
    "fig.set_size_inches(5,3.5)\n",
    "fig.canvas.draw()\n",
    "\n",
    "bg = fig.canvas.copy_from_bbox(ax.bbox)\n",
    "fig.canvas.blit(ax.bbox)\n",
    "\n",
    "fig.canvas.mpl_connect('pick_event', tinw.on_pick)\n",
    "fig.canvas.mpl_connect('motion_notify_event', tinw.on_move)\n",
    "fig.canvas.mpl_connect('button_release_event', tinw.on_release)\n",
    "fig.canvas.mpl_connect('figure_leave_event', tinw.on_release)\n",
    "fig.canvas.mpl_connect('draw_event', tinw.on_draw)\n",
    "\n",
    "fig.show()"
   ]
  },
  {
   "cell_type": "code",
   "execution_count": null,
   "metadata": {},
   "outputs": [
    {
     "name": "stdout",
     "output_type": "stream",
     "text": [
      "The autoreload extension is already loaded. To reload it, use:\n",
      "  %reload_ext autoreload\n"
     ]
    },
    {
     "data": {
      "application/vnd.jupyter.widget-view+json": {
       "model_id": "ec33439745374f1eadfb8ff25817b50e",
       "version_major": 2,
       "version_minor": 0
      },
      "text/plain": [
       "HBox(children=(Canvas(toolbar=Toolbar(toolitems=[('Home', 'Reset original view', 'home', 'home'), ('Back', 'Ba…"
      ]
     },
     "execution_count": 13,
     "metadata": {},
     "output_type": "execute_result"
    }
   ],
   "source": [
    "'''\n",
    "Implementing the interactions between the widgets \n",
    "and the matplotlib objects.\n",
    "'''\n",
    "from ipywidgets import interact, interactive, fixed, interact_manual\n",
    "import ipywidgets as widgets\n",
    "import test_utils\n",
    "import widget_handlers as wh\n",
    "from test_utils import *\n",
    "import numpy as np\n",
    "import matplotlib.pyplot as plt\n",
    "from matplotlib.patches import Rectangle\n",
    "from matplotlib.lines import Line2D\n",
    "\n",
    "test_utils.prepare_env()\n",
    "\n",
    "fig, ax = tinw.subplots()\n",
    "x = np.linspace(0,5,30)\n",
    "y = np.sin(x)\n",
    "rect = Rectangle([0.5, 0.5], 5, 10, alpha=.3,\n",
    "                color = 'yellow', lw = 0)\n",
    "rect1 = Rectangle([1, 1], 2, 5, alpha=.3,\n",
    "                color = 'yellow', lw = 0)\n",
    "line = Line2D([0,1], [0,1])\n",
    "rect.set_picker(5)\n",
    "rect1.set_picker(5)\n",
    "line.set_picker(5)\n",
    "\n",
    "# adds the line to the axs objects\n",
    "# when calling ax.draw() the line \n",
    "# is drawn\n",
    "# NOTE: if line.animated is true then \n",
    "# ax.draw() will not draw the line,\n",
    "# the updates are handled manually\n",
    "ax.add_artist(rect)\n",
    "ax.add_artist(rect1)\n",
    "ax.add_line(line)\n",
    "ax.relim()\n",
    "ax.autoscale_view()\n",
    "fig.tight_layout()\n",
    "fig.set_size_inches(5,3.5)\n",
    "fig.canvas.draw()\n",
    "\n",
    "bg = fig.canvas.copy_from_bbox(ax.bbox)\n",
    "fig.canvas.blit(ax.bbox)\n",
    "\n",
    "fig.canvas.mpl_connect('pick_event', tinw.on_pick)\n",
    "fig.canvas.mpl_connect('motion_notify_event', tinw.on_move)\n",
    "fig.canvas.mpl_connect('button_release_event', tinw.on_release)\n",
    "fig.canvas.mpl_connect('figure_leave_event', tinw.on_release)\n",
    "fig.canvas.mpl_connect('draw_event', tinw.on_draw)\n",
    "\n",
    "# interactive \n",
    "widgets.FloatSlider(\n",
    "    value=7.5,\n",
    "    min=0,\n",
    "    max=10.0,\n",
    "    step=0.1,\n",
    "    description='Test:',\n",
    "    disabled=False,\n",
    "    continuous_update=False,\n",
    "    orientation='horizontal',\n",
    "    readout=True,\n",
    "    readout_format='.1f',\n",
    ")\n",
    "\n",
    "\n",
    "# ___ WIDGETS ___\n",
    "out = widgets.Output()\n",
    "out.append_stdout('stdout:\\n')\n",
    "out.append_stdout(fig.get_dpi())\n",
    "slider = widgets.FloatSlider(\n",
    "    value=7,\n",
    "    min=0,\n",
    "    max=5,\n",
    "    step=.1,\n",
    "    description='Left:',\n",
    "    orientation='horizontal',\n",
    "    readout=True,\n",
    "    readout_format='.1f'\n",
    ")\n",
    "right_box = widgets.VBox([slider, out])\n",
    "app = widgets.HBox([fig.canvas, right_box])\n",
    "tinw.attach_property(rect, 'x', slider)\n",
    "\n",
    "app"
   ]
  },
  {
   "cell_type": "code",
   "execution_count": 4,
   "metadata": {},
   "outputs": [
    {
     "data": {
      "application/vnd.jupyter.widget-view+json": {
       "model_id": "980ab85bf5684dbcaf09e1c2a7d1923a",
       "version_major": 2,
       "version_minor": 0
      },
      "text/plain": [
       "Output(layout=Layout(border_bottom='1px solid black', border_left='1px solid black', border_right='1px solid b…"
      ]
     },
     "metadata": {},
     "output_type": "display_data"
    }
   ],
   "source": [
    "tinw.widget_handler.show_logs()"
   ]
  },
  {
   "cell_type": "code",
   "execution_count": 7,
   "metadata": {},
   "outputs": [
    {
     "data": {
      "application/vnd.jupyter.widget-view+json": {
       "model_id": "4b98316d4c62443cbf97e6882fa22719",
       "version_major": 2,
       "version_minor": 0
      },
      "text/plain": [
       "IntSlider(value=5, max=10)"
      ]
     },
     "metadata": {},
     "output_type": "display_data"
    },
    {
     "data": {
      "application/vnd.jupyter.widget-view+json": {
       "model_id": "f0d30a105b6d456d8bd5476a4f026d36",
       "version_major": 2,
       "version_minor": 0
      },
      "text/plain": [
       "Output()"
      ]
     },
     "metadata": {},
     "output_type": "display_data"
    },
    {
     "data": {
      "application/vnd.jupyter.widget-view+json": {
       "model_id": "a9042a15163c4e309df61907ef7d85a5",
       "version_major": 2,
       "version_minor": 0
      },
      "text/plain": [
       "Output()"
      ]
     },
     "metadata": {},
     "output_type": "display_data"
    }
   ],
   "source": [
    "import ipywidgets as widgets\n",
    "from IPython.display import display\n",
    "\n",
    "a = widgets.IntSlider(value=5, min=0, max=10)\n",
    "\n",
    "def f1(a):\n",
    "    display(a)\n",
    "    \n",
    "def f2(a):\n",
    "    display(a * 2)\n",
    "    \n",
    "out1 = widgets.interactive_output(f1, {'a': a})\n",
    "out2 = widgets.interactive_output(f2, {'a': a})\n",
    "\n",
    "display(a)\n",
    "display(out1)\n",
    "display(out2)"
   ]
  },
  {
   "cell_type": "code",
   "execution_count": null,
   "metadata": {},
   "outputs": [
    {
     "name": "stdout",
     "output_type": "stream",
     "text": [
      "3\n",
      "4\n",
      "7\n",
      "8\n"
     ]
    }
   ],
   "source": [
    "def f(a):\n",
    "    def g (b):\n",
    "        return a + b\n",
    "    return g\n",
    "\n",
    "c = f(1)\n",
    "d = f(5)\n",
    "print(c(2))\n",
    "print(c(3))\n",
    "print(d(2))\n",
    "print(d(3))"
   ]
  },
  {
   "cell_type": "code",
   "execution_count": 12,
   "metadata": {},
   "outputs": [
    {
     "data": {
      "text/plain": [
       "{'antialiased': {'aa'},\n",
       " 'edgecolor': {'ec'},\n",
       " 'facecolor': {'fc'},\n",
       " 'linestyle': {'ls'},\n",
       " 'linewidth': {'lw'}}"
      ]
     },
     "execution_count": 12,
     "metadata": {},
     "output_type": "execute_result"
    }
   ],
   "source": [
    "from matplotlib.artist import Artist, ArtistInspector\n",
    "rect = Rectangle([0.5, 0.5], 5, 10, alpha=.3,\n",
    "\t\t\t\tcolor = 'yellow', lw = 0)\n",
    "rect.properties()\n",
    "prop = 'x'\n",
    "\n",
    "ArtistInspector(rect).get_aliases()"
   ]
  }
 ],
 "metadata": {
  "kernelspec": {
   "display_name": "Python 3",
   "language": "python",
   "name": "python3"
  },
  "language_info": {
   "codemirror_mode": {
    "name": "ipython",
    "version": 3
   },
   "file_extension": ".py",
   "mimetype": "text/x-python",
   "name": "python",
   "nbconvert_exporter": "python",
   "pygments_lexer": "ipython3",
   "version": "3.13.2"
  }
 },
 "nbformat": 4,
 "nbformat_minor": 2
}
