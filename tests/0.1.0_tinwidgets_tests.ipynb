{
 "cells": [
  {
   "cell_type": "markdown",
   "metadata": {},
   "source": [
    "# TinWidgets Tests\n",
    "`__version__ : '0.1.0'`\n"
   ]
  },
  {
   "cell_type": "code",
   "execution_count": 1,
   "metadata": {},
   "outputs": [
    {
     "name": "stdout",
     "output_type": "stream",
     "text": [
      "tinwidgets version is 0.1.0, proceeding...\n"
     ]
    }
   ],
   "source": [
    "import sys\n",
    "sys.path.append('..')\n",
    "import tinwidgets as tinw\n",
    "import importlib\n",
    "\n",
    "importlib.reload(tinw)\n",
    "if tinw.__version__ != '0.1.0':\n",
    "    raise Exception('tinwidgets version is not 0.1.0, it is', tinw.__version__)\n",
    "else:\n",
    "    print('tinwidgets version is 0.1.0, proceeding...')"
   ]
  },
  {
   "cell_type": "code",
   "execution_count": 2,
   "metadata": {},
   "outputs": [
    {
     "data": {
      "application/vnd.jupyter.widget-view+json": {
       "model_id": "eebc9bda056e4d4c8924b894301442d2",
       "version_major": 2,
       "version_minor": 0
      },
      "image/png": "[encoded data removed]",
      "text/html": [
       "\n",
       "            <div style=\"display: inline-block;\">\n",
       "                <div class=\"jupyter-widgets widget-label\" style=\"text-align: center;\">\n",
       "                    Figure\n",
       "                </div>\n",
       "                <img src='data:image/png;base64,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' width=500.0/>\n",
       "            </div>\n",
       "        "
      ],
      "text/plain": [
       "Canvas(toolbar=Toolbar(toolitems=[('Home', 'Reset original view', 'home', 'home'), ('Back', 'Back to previous …"
      ]
     },
     "metadata": {},
     "output_type": "display_data"
    }
   ],
   "source": [
    "''' \n",
    "This is the basic test to check if the package is working correctly.\n",
    "Nothing is changed from the last demo in 0.0.0_tests.ipynb, execpt \n",
    "dividing the code into modules.\n",
    "'''\n",
    "from test_utils import *\n",
    "import numpy as np\n",
    "import matplotlib.pyplot as plt\n",
    "from matplotlib.patches import Rectangle\n",
    "from matplotlib.lines import Line2D\n",
    "\n",
    "%matplotlib widget\n",
    "importlib.reload(tinw)\n",
    "\n",
    "import tinwidgets as tinw\n",
    "# prepare_env()\n",
    "\n",
    "with plt.ioff():\n",
    "    fig, ax = plt.subplots()\n",
    "\n",
    "x = np.linspace(0,5,30)\n",
    "y = np.sin(x)\n",
    "rect = Rectangle([0.5, 0.5], 5, 10, alpha=.3,\n",
    "                color = 'yellow', lw = 0)\n",
    "rect1 = Rectangle([1, 1], 5, 10, alpha=.3,\n",
    "                color = 'yellow', lw = 0)\n",
    "line = Line2D([0,1], [0,1])\n",
    "rect.set_picker(5)\n",
    "rect1.set_picker(5)\n",
    "line.set_picker(5)\n",
    "\n",
    "# adds the line to the axs objects\n",
    "# when calling ax.draw() the line \n",
    "# is drawn\n",
    "# NOTE: if line.animated is true then \n",
    "# ax.draw() will not draw the line,\n",
    "# the updates are handled manually\n",
    "ax.add_artist(rect)\n",
    "ax.add_artist(rect1)\n",
    "ax.add_line(line)\n",
    "ax.relim()\n",
    "ax.autoscale_view()\n",
    "fig.tight_layout()\n",
    "fig.set_size_inches(5,3.5)\n",
    "fig.canvas.draw()\n",
    "\n",
    "bg = fig.canvas.copy_from_bbox(ax.bbox)\n",
    "fig.canvas.blit(ax.bbox)\n",
    "\n",
    "fig.canvas.mpl_connect('pick_event', tinw.on_pick)\n",
    "fig.canvas.mpl_connect('motion_notify_event', tinw.on_move)\n",
    "fig.canvas.mpl_connect('button_release_event', tinw.on_release)\n",
    "fig.canvas.mpl_connect('figure_leave_event', tinw.on_release)\n",
    "fig.canvas.mpl_connect('draw_event', tinw.on_draw)\n",
    "\n",
    "fig.show()"
   ]
  },
  {
   "cell_type": "code",
   "execution_count": 13,
   "metadata": {},
   "outputs": [
    {
     "name": "stdout",
     "output_type": "stream",
     "text": [
      "The autoreload extension is already loaded. To reload it, use:\n",
      "  %reload_ext autoreload\n"
     ]
    },
    {
     "data": {
      "application/vnd.jupyter.widget-view+json": {
       "model_id": "ba6281c425b448429123a2342bb4c25b",
       "version_major": 2,
       "version_minor": 0
      },
      "text/plain": [
       "HBox(children=(Canvas(toolbar=Toolbar(toolitems=[('Home', 'Reset original view', 'home', 'home'), ('Back', 'Ba…"
      ]
     },
     "execution_count": 13,
     "metadata": {},
     "output_type": "execute_result"
    }
   ],
   "source": [
    "from ipywidgets import interact, interactive, fixed, interact_manual\n",
    "import ipywidgets as widgets\n",
    "import test_utils\n",
    "\n",
    "test_utils.prepare_env()\n",
    "\n",
    "fig, ax = tinw.subplots()\n",
    "x = np.linspace(0,5,30)\n",
    "y = np.sin(x)\n",
    "rect = Rectangle([0.5, 0.5], 5, 10, alpha=.3,\n",
    "                color = 'yellow', lw = 0)\n",
    "rect1 = Rectangle([1, 1], 2, 5, alpha=.3,\n",
    "                color = 'yellow', lw = 0)\n",
    "line = Line2D([0,1], [0,1])\n",
    "rect.set_picker(5)\n",
    "rect1.set_picker(5)\n",
    "line.set_picker(5)\n",
    "\n",
    "# adds the line to the axs objects\n",
    "# when calling ax.draw() the line \n",
    "# is drawn\n",
    "# NOTE: if line.animated is true then \n",
    "# ax.draw() will not draw the line,\n",
    "# the updates are handled manually\n",
    "ax.add_artist(rect)\n",
    "ax.add_artist(rect1)\n",
    "ax.add_line(line)\n",
    "ax.relim()\n",
    "ax.autoscale_view()\n",
    "fig.tight_layout()\n",
    "fig.set_size_inches(5,3.5)\n",
    "fig.canvas.draw()\n",
    "\n",
    "bg = fig.canvas.copy_from_bbox(ax.bbox)\n",
    "fig.canvas.blit(ax.bbox)\n",
    "\n",
    "fig.canvas.mpl_connect('pick_event', tinw.on_pick)\n",
    "fig.canvas.mpl_connect('motion_notify_event', tinw.on_move)\n",
    "fig.canvas.mpl_connect('button_release_event', tinw.on_release)\n",
    "fig.canvas.mpl_connect('figure_leave_event', tinw.on_release)\n",
    "fig.canvas.mpl_connect('draw_event', tinw.on_draw)\n",
    "\n",
    "# interactive \n",
    "widgets.FloatSlider(\n",
    "    value=7.5,\n",
    "    min=0,\n",
    "    max=10.0,\n",
    "    step=0.1,\n",
    "    description='Test:',\n",
    "    disabled=False,\n",
    "    continuous_update=False,\n",
    "    orientation='horizontal',\n",
    "    readout=True,\n",
    "    readout_format='.1f',\n",
    ")\n",
    "\n",
    "\n",
    "# ___ WIDGETS ___\n",
    "out = widgets.Output()\n",
    "out.append_stdout('stdout:\\n')\n",
    "out.append_stdout(fig.get_dpi())\n",
    "slider = widgets.FloatSlider(\n",
    "    value=7,\n",
    "    min=0,\n",
    "    max=5,\n",
    "    step=.1,\n",
    "    description='Left:',\n",
    "    orientation='horizontal',\n",
    "    readout=True,\n",
    "    readout_format='.1f'\n",
    ")\n",
    "right_box = widgets.VBox([slider, out])\n",
    "app = widgets.HBox([fig.canvas, right_box])\n",
    "slider.value = 2\n",
    "tinw.link_to_widget(rect, slider)\n",
    "app"
   ]
  },
  {
   "cell_type": "code",
   "execution_count": 5,
   "metadata": {},
   "outputs": [
    {
     "data": {
      "application/vnd.jupyter.widget-view+json": {
       "model_id": "cd6d00b29fa84e30b1fe7b6cc1169f43",
       "version_major": 2,
       "version_minor": 0
      },
      "text/plain": [
       "Output(layout=Layout(border_bottom='1px solid black', border_left='1px solid black', border_right='1px solid b…"
      ]
     },
     "metadata": {},
     "output_type": "display_data"
    }
   ],
   "source": [
    "tinw.widget_handler.show_logs()"
   ]
  },
  {
   "cell_type": "code",
   "execution_count": 7,
   "metadata": {},
   "outputs": [
    {
     "data": {
      "application/vnd.jupyter.widget-view+json": {
       "model_id": "76c04046c77b42bab877db5cb0df8d23",
       "version_major": 2,
       "version_minor": 0
      },
      "text/plain": [
       "IntSlider(value=5, max=10)"
      ]
     },
     "metadata": {},
     "output_type": "display_data"
    },
    {
     "data": {
      "application/vnd.jupyter.widget-view+json": {
       "model_id": "e535e3a2d0304159b32b5fb81f223891",
       "version_major": 2,
       "version_minor": 0
      },
      "text/plain": [
       "Output()"
      ]
     },
     "metadata": {},
     "output_type": "display_data"
    },
    {
     "data": {
      "application/vnd.jupyter.widget-view+json": {
       "model_id": "7e1eb3c8cdaa4c3b872981bf315adda3",
       "version_major": 2,
       "version_minor": 0
      },
      "text/plain": [
       "Output()"
      ]
     },
     "metadata": {},
     "output_type": "display_data"
    }
   ],
   "source": [
    "import ipywidgets as widgets\n",
    "from IPython.display import display\n",
    "\n",
    "a = widgets.IntSlider(value=5, min=0, max=10)\n",
    "\n",
    "def f1(a):\n",
    "    display(a)\n",
    "    \n",
    "def f2(a):\n",
    "    display(a * 2)\n",
    "    \n",
    "out1 = widgets.interactive_output(f1, {'a': a})\n",
    "out2 = widgets.interactive_output(f2, {'a': a})\n",
    "\n",
    "display(a)\n",
    "display(out1)\n",
    "display(out2)"
   ]
  },
  {
   "cell_type": "code",
   "execution_count": null,
   "metadata": {},
   "outputs": [],
   "source": [
    "''''''"
   ]
  }
 ],
 "metadata": {
  "kernelspec": {
   "display_name": "Python 3",
   "language": "python",
   "name": "python3"
  },
  "language_info": {
   "codemirror_mode": {
    "name": "ipython",
    "version": 3
   },
   "file_extension": ".py",
   "mimetype": "text/x-python",
   "name": "python",
   "nbconvert_exporter": "python",
   "pygments_lexer": "ipython3",
   "version": "3.12.6"
  }
 },
 "nbformat": 4,
 "nbformat_minor": 2
}
