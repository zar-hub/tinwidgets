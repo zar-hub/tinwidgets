{
 "cells": [
  {
   "cell_type": "markdown",
   "metadata": {},
   "source": [
    "# TinWidgets Tests\n",
    "`__version__ : '0.1.0'`\n",
    "\n",
    "## Features\n",
    "<input type=\"checkbox\"/> Outputwidget support</br>\n",
    "<input type=\"checkbox\"/> Slider interactivity \n",
    "\n",
    "## Dev \n",
    "Widget system: each artist can have properties that are synched with widgets values. This link is both sides. Additionally each Artist has a default behaviour with the output widget that does not need to be specifically implemented.\n",
    "So we have two things:\n",
    "- a general behaviour depending on artist's type with output widget, but the output widget is given\n",
    "- an instace specific link between an artist property and a widget value\n",
    "\n",
    "## TODO\n",
    "<input type=\"checkbox\"/> Support for multiple canvases"
   ]
  },
  {
   "cell_type": "code",
   "execution_count": 1,
   "metadata": {},
   "outputs": [
    {
     "name": "stdout",
     "output_type": "stream",
     "text": [
      "tinwidgets version is 0.1.0, proceeding...\n"
     ]
    }
   ],
   "source": [
    "import test_utils\n",
    "test_utils.prepare_env()\n",
    "import tinwidgets as tinw\n",
    "import importlib\n",
    "import test_utils\n",
    "\n",
    "importlib.reload(tinw)\n",
    "if tinw.__version__ != '0.1.0':\n",
    "    raise Exception('tinwidgets version is not 0.1.0, it is', tinw.__version__)\n",
    "else:\n",
    "    print('tinwidgets version is 0.1.0, proceeding...')\n",
    "    \n",
    "test_utils.prepare_env(reload_all=False)\n"
   ]
  },
  {
   "cell_type": "code",
   "execution_count": 2,
   "metadata": {},
   "outputs": [
    {
     "data": {
      "application/vnd.jupyter.widget-view+json": {
       "model_id": "9a10f94eea3e499ea61fc78900a351ce",
       "version_major": 2,
       "version_minor": 0
      },
      "image/png": "[encoded data removed]",
      "text/html": [
       "\n",
       "            <div style=\"display: inline-block;\">\n",
       "                <div class=\"jupyter-widgets widget-label\" style=\"text-align: center;\">\n",
       "                    Figure\n",
       "                </div>\n",
       "                <img src='data:image/png;base64,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' width=500.0/>\n",
       "            </div>\n",
       "        "
      ],
      "text/plain": [
       "Canvas(toolbar=Toolbar(toolitems=[('Home', 'Reset original view', 'home', 'home'), ('Back', 'Back to previous …"
      ]
     },
     "metadata": {},
     "output_type": "display_data"
    }
   ],
   "source": [
    "''' \n",
    "This is the basic test to check if the package is working correctly.\n",
    "Nothing is changed from the last demo in 0.0.0_tests.ipynb, execpt \n",
    "dividing the code into modules.\n",
    "'''\n",
    "from test_utils import *\n",
    "import numpy as np\n",
    "import matplotlib.pyplot as plt\n",
    "from matplotlib.patches import Rectangle\n",
    "from matplotlib.lines import Line2D\n",
    "\n",
    "%matplotlib widget\n",
    "importlib.reload(tinw)\n",
    "\n",
    "import tinwidgets as tinw\n",
    "# prepare_env()\n",
    "\n",
    "with plt.ioff():\n",
    "    fig, ax = plt.subplots()\n",
    "\n",
    "x = np.linspace(0,5,30)\n",
    "y = np.sin(x)\n",
    "rect = Rectangle([0.5, 0.5], 5, 10, alpha=.3,\n",
    "                color = 'yellow', lw = 0)\n",
    "rect1 = Rectangle([1, 1], 5, 10, alpha=.3,\n",
    "                color = 'yellow', lw = 0)\n",
    "line = Line2D([0,1], [0,1])\n",
    "rect.set_picker(5)\n",
    "rect1.set_picker(5)\n",
    "line.set_picker(5)\n",
    "\n",
    "# adds the line to the axs objects\n",
    "# when calling ax.draw() the line \n",
    "# is drawn\n",
    "# NOTE: if line.animated is true then \n",
    "# ax.draw() will not draw the line,\n",
    "# the updates are handled manually\n",
    "ax.add_artist(rect)\n",
    "ax.add_artist(rect1)\n",
    "ax.add_line(line)\n",
    "ax.relim()\n",
    "ax.autoscale_view()\n",
    "fig.tight_layout()\n",
    "fig.set_size_inches(5,3.5)\n",
    "fig.canvas.draw()\n",
    "\n",
    "bg = fig.canvas.copy_from_bbox(ax.bbox)\n",
    "fig.canvas.blit(ax.bbox)\n",
    "\n",
    "fig.canvas.mpl_connect('pick_event', tinw.on_pick)\n",
    "fig.canvas.mpl_connect('motion_notify_event', tinw.on_move)\n",
    "fig.canvas.mpl_connect('button_release_event', tinw.on_release)\n",
    "fig.canvas.mpl_connect('figure_leave_event', tinw.on_release)\n",
    "fig.canvas.mpl_connect('draw_event', tinw.on_draw)\n",
    "\n",
    "fig.show()"
   ]
  },
  {
   "cell_type": "code",
   "execution_count": 77,
   "metadata": {},
   "outputs": [
    {
     "data": {
      "application/vnd.jupyter.widget-view+json": {
       "model_id": "915e51e9e33f475285f6ac0e776599bd",
       "version_major": 2,
       "version_minor": 0
      },
      "text/plain": [
       "HBox(children=(Canvas(toolbar=Toolbar(toolitems=[('Home', 'Reset original view', 'home', 'home'), ('Back', 'Ba…"
      ]
     },
     "execution_count": 77,
     "metadata": {},
     "output_type": "execute_result"
    }
   ],
   "source": [
    "'''\n",
    "Implementing the interactions between the widgets \n",
    "and the matplotlib objects.\n",
    "'''\n",
    "from ipywidgets import interact, interactive, fixed, interact_manual\n",
    "import ipywidgets as widgets\n",
    "import test_utils\n",
    "from test_utils import *\n",
    "import numpy as np\n",
    "import matplotlib.pyplot as plt\n",
    "from matplotlib.patches import Rectangle\n",
    "from matplotlib.lines import Line2D\n",
    "\n",
    "test_utils.prepare_env()\n",
    "\n",
    "fig, ax = tinw.subplots()\n",
    "x = np.linspace(0,5,30)\n",
    "y = np.sin(x)\n",
    "rect = Rectangle([0.5, 0.5], 5, 10, alpha=.3,\n",
    "                color = 'yellow', lw = 0)\n",
    "rect1 = Rectangle([1, 1], 2, 5, alpha=.3,\n",
    "                color = 'yellow', lw = 0)\n",
    "line = Line2D([0,1], [0,1])\n",
    "rect.set_picker(5)\n",
    "rect1.set_picker(5)\n",
    "line.set_picker(5)\n",
    "\n",
    "# adds the line to the axs objects\n",
    "# when calling ax.draw() the line \n",
    "# is drawn\n",
    "# NOTE: if line.animated is true then \n",
    "# ax.draw() will not draw the line,\n",
    "# the updates are handled manually\n",
    "ax.add_artist(rect)\n",
    "ax.add_artist(rect1)\n",
    "ax.add_line(line)\n",
    "ax.relim()\n",
    "ax.autoscale_view()\n",
    "fig.tight_layout()\n",
    "fig.set_size_inches(5,3.5)\n",
    "fig.canvas.draw()\n",
    "\n",
    "bg = fig.canvas.copy_from_bbox(ax.bbox)\n",
    "fig.canvas.blit(ax.bbox)\n",
    "\n",
    "# interactive \n",
    "widgets.FloatSlider(\n",
    "    value=7.5,\n",
    "    min=0,\n",
    "    max=10.0,\n",
    "    step=0.1,\n",
    "    description='Test:',\n",
    "    disabled=False,\n",
    "    continuous_update=False,\n",
    "    orientation='horizontal',\n",
    "    readout=True,\n",
    "    readout_format='.1f',\n",
    ")\n",
    "\n",
    "\n",
    "# ___ WIDGETS ___\n",
    "out = widgets.Output()\n",
    "out.append_stdout('stdout:\\n')\n",
    "out.append_stdout(fig.get_dpi())\n",
    "\n",
    "x = widgets.FloatSlider(\n",
    "    value=7,\n",
    "    min=0,\n",
    "    max=5,\n",
    "    step=.1,\n",
    "    description='Left:',\n",
    "    orientation='horizontal',\n",
    "    readout=True,\n",
    "    readout_format='.1f'\n",
    ")\n",
    "y = widgets.FloatSlider(\n",
    "    value=7,\n",
    "    min=0,\n",
    "    max=5,\n",
    "    step=.1,\n",
    "    description='Bottom:',\n",
    "    orientation='horizontal',\n",
    "    readout=True,\n",
    "    readout_format='.1f'\n",
    ")\n",
    "width = widgets.FloatSlider(\n",
    "    value=7,\n",
    "    min=0,\n",
    "    max=5,\n",
    "    step=.1,\n",
    "    description='Width:',\n",
    "    orientation='horizontal',\n",
    "    readout=True,\n",
    "    readout_format='.1f'\n",
    ")\n",
    "height = widgets.FloatSlider(\n",
    "    value=7,\n",
    "    min=0,\n",
    "    max=5,\n",
    "    step=.1,\n",
    "    description='Height:',\n",
    "    orientation='horizontal',\n",
    "    readout=True,\n",
    "    readout_format='.1f'\n",
    ")\n",
    "wid_list = [x, y, width, height]\n",
    "\n",
    "right_box = widgets.VBox(wid_list)\n",
    "app = widgets.HBox([fig.canvas, right_box])\n",
    "tinw.link_property(x, rect, 'x')\n",
    "tinw.link_property(y, rect, 'y')\n",
    "tinw.link_property(width, rect, 'width')\n",
    "tinw.link_property(height, rect, 'height')\n",
    "\n",
    "app"
   ]
  },
  {
   "cell_type": "code",
   "execution_count": 11,
   "metadata": {},
   "outputs": [
    {
     "data": {
      "application/vnd.jupyter.widget-view+json": {
       "model_id": "4854a607ae22460687953cd72f1a1fa7",
       "version_major": 2,
       "version_minor": 0
      },
      "text/plain": [
       "Output(layout=Layout(border_bottom='1px solid black', border_left='1px solid black', border_right='1px solid b…"
      ]
     },
     "metadata": {},
     "output_type": "display_data"
    }
   ],
   "source": [
    "tinw.widget_handler.show_logs()"
   ]
  },
  {
   "cell_type": "markdown",
   "metadata": {},
   "source": [
    "# Interfaces for widgets"
   ]
  },
  {
   "cell_type": "code",
   "execution_count": null,
   "metadata": {},
   "outputs": [
    {
     "data": {
      "application/vnd.jupyter.widget-view+json": {
       "model_id": "75db7c44c59f46c29fff52dc9e9cdd5b",
       "version_major": 2,
       "version_minor": 0
      },
      "text/plain": [
       "Box(children=(Label(value='Rect MockUp', layout=Layout(width='90%')), Dropdown(description='Choose:', layout=L…"
      ]
     },
     "execution_count": 56,
     "metadata": {},
     "output_type": "execute_result"
    }
   ],
   "source": [
    "''' \n",
    "Rectangle interface mockup\n",
    "'''\n",
    "\n",
    "from ipywidgets import Layout, Button, Box, FloatSlider, Label, Dropdown\n",
    "\n",
    "box_layout = Layout(display='flex',\n",
    "                    flex_flow='column',\n",
    "                    align_items='center',\n",
    "                    align_content='flex-start',\n",
    "                    border='solid',\n",
    "                    padding='0px',\n",
    "                    margin='0px',\n",
    "                    width='40%',\n",
    "                    )\n",
    "\n",
    "items_layout = Layout(\n",
    "    width='100%',\n",
    "    margin='0px',\n",
    ") \n",
    "\n",
    "dropdown = Dropdown(\n",
    "\toptions=['option1', 'option2', 'option3'],\n",
    "\tvalue='option1',\n",
    "\tdescription='Choose:',\n",
    "\tlayout=Layout(width='90%')\n",
    ")\n",
    "\n",
    "fit_button = Button(description='Fit', layout=Layout(width='90%'))\n",
    "title = Label('Rect MockUp', layout=Layout(width='90%'))\n",
    "words = ['left', 'top', 'width', 'height']\n",
    "items = [FloatSlider(description=word, layout=items_layout) for word in words]\n",
    "items = [title, dropdown] + items\n",
    "items.append(fit_button)\n",
    "box = Box(children=items, layout=box_layout)\n",
    "box"
   ]
  },
  {
   "cell_type": "code",
   "execution_count": 54,
   "metadata": {},
   "outputs": [
    {
     "data": {
      "application/vnd.jupyter.widget-view+json": {
       "model_id": "26f6e44b971b4e05b109c438b04d2bc7",
       "version_major": 2,
       "version_minor": 0
      },
      "text/plain": [
       "Box(children=(Label(value='Line MockUp', layout=Layout(width='90%')), FloatSlider(value=0.0, description='x-of…"
      ]
     },
     "execution_count": 54,
     "metadata": {},
     "output_type": "execute_result"
    }
   ],
   "source": [
    "''' \n",
    "Line interface mockup\n",
    "'''\n",
    "\n",
    "from ipywidgets import Layout, Button, Box, FloatSlider, Label, Dropdown\n",
    "\n",
    "box_layout = Layout(display='flex',\n",
    "                    flex_flow='column',\n",
    "                    align_items='center',\n",
    "                    align_content='flex-start',\n",
    "                    border='solid',\n",
    "                    padding='0px',\n",
    "                    margin='0px',\n",
    "                    width='40%',\n",
    "                    )\n",
    "\n",
    "items_layout = Layout(\n",
    "    width='100%',\n",
    "    margin='0px',\n",
    ") \n",
    "\n",
    "reset_button = Button(description='Reset', layout=Layout(width='90%'))\n",
    "title = Label('Line MockUp', layout=Layout(width='90%'))\n",
    "words = ['x-offset', 'y-offset', 'x-scale', 'y-scale']\n",
    "items = [FloatSlider(description=word, layout=items_layout) for word in words]\n",
    "items = [title] + items\n",
    "items.append(reset_button)\n",
    "box = Box(children=items, layout=box_layout)\n",
    "box"
   ]
  },
  {
   "cell_type": "code",
   "execution_count": null,
   "metadata": {},
   "outputs": [
    {
     "name": "stdout",
     "output_type": "stream",
     "text": [
      "CompositeGenericTransform(\n",
      "    CompositeGenericTransform(\n",
      "        CompositeGenericTransform(\n",
      "            Affine2D(\n",
      "                [[ 0.00201613  0.         -0.16129032]\n",
      "                 [ 0.          0.00270563 -0.14285714]\n",
      "                 [ 0.          0.          1.        ]]),\n",
      "            Affine2D(\n",
      "                [[ 5.5         0.         -0.25      ]\n",
      "                 [ 0.          2.19799988 -1.09827266]\n",
      "                 [ 0.          0.          1.        ]])),\n",
      "        Affine2D().scale(1.0)),\n",
      "    CompositeGenericTransform(\n",
      "        TransformWrapper(\n",
      "            BlendedAffine2D(\n",
      "                IdentityTransform(),\n",
      "                IdentityTransform())),\n",
      "        CompositeGenericTransform(\n",
      "            BboxTransformFrom(\n",
      "                TransformedBbox(\n",
      "                    Bbox(x0=-0.25, y0=-1.0982726642650087, x1=5.25, y1=1.0997272168229384),\n",
      "                    TransformWrapper(\n",
      "                        BlendedAffine2D(\n",
      "                            IdentityTransform(),\n",
      "                            IdentityTransform())))),\n",
      "            BboxTransformTo(\n",
      "                TransformedBbox(\n",
      "                    Bbox(x0=0.125, y0=0.10999999999999999, x1=0.9, y1=0.88),\n",
      "                    BboxTransformTo(\n",
      "                        TransformedBbox(\n",
      "                            Bbox(x0=0.0, y0=0.0, x1=6.4, y1=4.8),\n",
      "                            Affine2D().scale(100.0))))))))\n"
     ]
    },
    {
     "ename": "TypeError",
     "evalue": "'CompositeGenericTransform' object is not subscriptable",
     "output_type": "error",
     "traceback": [
      "\u001b[1;31m---------------------------------------------------------------------------\u001b[0m",
      "\u001b[1;31mTypeError\u001b[0m                                 Traceback (most recent call last)",
      "Cell \u001b[1;32mIn[25], line 32\u001b[0m\n\u001b[0;32m     29\u001b[0m tab\u001b[38;5;241m.\u001b[39mset_title(\u001b[38;5;241m0\u001b[39m, \u001b[38;5;124m'\u001b[39m\u001b[38;5;124mFitting Panel\u001b[39m\u001b[38;5;124m'\u001b[39m)\n\u001b[0;32m     30\u001b[0m tab\u001b[38;5;241m.\u001b[39mset_title(\u001b[38;5;241m1\u001b[39m, \u001b[38;5;124m'\u001b[39m\u001b[38;5;124mWave Panel\u001b[39m\u001b[38;5;124m'\u001b[39m)\n\u001b[1;32m---> 32\u001b[0m \u001b[43mtinw\u001b[49m\u001b[38;5;241;43m.\u001b[39;49m\u001b[43mlink_transform\u001b[49m\u001b[43m(\u001b[49m\u001b[43mwavePanel\u001b[49m\u001b[38;5;241;43m.\u001b[39;49m\u001b[43mitems\u001b[49m\u001b[43m[\u001b[49m\u001b[38;5;241;43m1\u001b[39;49m\u001b[43m]\u001b[49m\u001b[43m,\u001b[49m\u001b[43m \u001b[49m\u001b[43mwave\u001b[49m\u001b[43m,\u001b[49m\u001b[43m \u001b[49m\u001b[38;5;124;43m'\u001b[39;49m\u001b[38;5;124;43mtx\u001b[39;49m\u001b[38;5;124;43m'\u001b[39;49m\u001b[43m)\u001b[49m\n\u001b[0;32m     34\u001b[0m layout \u001b[38;5;241m=\u001b[39m AppLayout(\n\u001b[0;32m     35\u001b[0m \tcenter\u001b[38;5;241m=\u001b[39mfig\u001b[38;5;241m.\u001b[39mcanvas,\n\u001b[0;32m     36\u001b[0m \tright_sidebar\u001b[38;5;241m=\u001b[39mtab,\n\u001b[0;32m     37\u001b[0m \tpane_widths\u001b[38;5;241m=\u001b[39m[\u001b[38;5;241m0\u001b[39m, \u001b[38;5;241m2\u001b[39m, \u001b[38;5;241m1\u001b[39m]\n\u001b[0;32m     38\u001b[0m )\n\u001b[0;32m     39\u001b[0m display(layout)\n",
      "File \u001b[1;32mc:\\Users\\alber\\Documents\\GitProjects\\tinwidgets\\tests\\..\\tinwidgets.py:313\u001b[0m, in \u001b[0;36mlink_transform\u001b[1;34m(widget, artist, transform)\u001b[0m\n\u001b[0;32m    310\u001b[0m     widget\u001b[38;5;241m.\u001b[39mvalue \u001b[38;5;241m=\u001b[39m pos[masks[transform]]\n\u001b[0;32m    312\u001b[0m attach_handler(artist, update_widget)\n\u001b[1;32m--> 313\u001b[0m \u001b[43mupdate_widget\u001b[49m\u001b[43m(\u001b[49m\u001b[43m)\u001b[49m\n",
      "File \u001b[1;32mc:\\Users\\alber\\Documents\\GitProjects\\tinwidgets\\tests\\..\\tinwidgets.py:310\u001b[0m, in \u001b[0;36mlink_transform.<locals>.update_widget\u001b[1;34m()\u001b[0m\n\u001b[0;32m    308\u001b[0m pos \u001b[38;5;241m=\u001b[39m inv \u001b[38;5;241m+\u001b[39m artist\u001b[38;5;241m.\u001b[39mget_transform()\n\u001b[0;32m    309\u001b[0m \u001b[38;5;28mprint\u001b[39m(pos)\n\u001b[1;32m--> 310\u001b[0m widget\u001b[38;5;241m.\u001b[39mvalue \u001b[38;5;241m=\u001b[39m \u001b[43mpos\u001b[49m\u001b[43m[\u001b[49m\u001b[43mmasks\u001b[49m\u001b[43m[\u001b[49m\u001b[43mtransform\u001b[49m\u001b[43m]\u001b[49m\u001b[43m]\u001b[49m\n",
      "\u001b[1;31mTypeError\u001b[0m: 'CompositeGenericTransform' object is not subscriptable"
     ]
    }
   ],
   "source": [
    "import test_utils\n",
    "test_utils.prepare_env()\n",
    "from components import *\n",
    "from ipywidgets import Tab, HBox, HTML, Button, Box, AppLayout, GridspecLayout, Layout\n",
    "import numpy as np\n",
    "import matplotlib.pyplot as plt\n",
    "from matplotlib.lines import Line2D\n",
    "import tinwidgets as tinw\n",
    "%matplotlib widget\n",
    " \n",
    "fitPanel = FitPanelWidget()\n",
    "wavePanel = WavePanel()\n",
    "\n",
    "x = np.linspace(0,5,30)\n",
    "y = np.sin(x)\n",
    "\n",
    "\n",
    "fig, ax = tinw.subplots()\n",
    "\n",
    "wave = Line2D(x, y)\n",
    "ax.add_line(wave)\n",
    "ax.relim()\n",
    "ax.autoscale_view()\n",
    "wave.set_picker(5)\n",
    "\n",
    "\n",
    "\n",
    "tab = Tab(children=[fitPanel.container, wavePanel.container])\n",
    "tab.set_title(0, 'Fitting Panel')\n",
    "tab.set_title(1, 'Wave Panel')\n",
    "\n",
    "tinw.link_transform(wavePanel.items[1], wave, 'tx')\n",
    "\n",
    "layout = AppLayout(\n",
    "\tcenter=fig.canvas,\n",
    "\tright_sidebar=tab,\n",
    "\tpane_widths=[0, 2, 1]\n",
    ")\n",
    "display(layout)"
   ]
  },
  {
   "cell_type": "code",
   "execution_count": 89,
   "metadata": {},
   "outputs": [
    {
     "name": "stdout",
     "output_type": "stream",
     "text": [
      "[[2.  0.  1.4]\n",
      " [0.  3.  1.5]\n",
      " [0.  0.  1. ]]\n",
      "1.4\n",
      "2.4\n",
      "CompositeAffine2D(\n",
      "    Affine2D(\n",
      "        [[2.  0.  1.4]\n",
      "         [0.  3.  1.5]\n",
      "         [0.  0.  1. ]]),\n",
      "    Affine2D(\n",
      "        [[1. 0. 1.]\n",
      "         [0. 1. 0.]\n",
      "         [0. 0. 1.]]))\n",
      "[[2.  0.  1.4]\n",
      " [0.  3.  1.5]\n",
      " [0.  0.  1. ]]\n"
     ]
    }
   ],
   "source": [
    "import matplotlib.transforms as transforms\n",
    "from matplotlib.lines import Line2D\n",
    "line = Line2D([0,1], [0,1])\n",
    "line.set_transform(transforms.Affine2D().translate(0.7, 0.5).scale(2,3) + line.get_transform())\n",
    "# line.set_transform(transforms.Affine2D().scale(2,3).translate(0.7, 0.5) + line.get_transform())\n",
    "line.properties()\n",
    "x = line.get_transform().get_matrix()[0,2]\n",
    "matrix = line._transform\n",
    "print(line.get_transform().get_matrix())\n",
    "print(x)\n",
    "x = x + 1\n",
    "print(x)\n",
    "matrix = matrix + transforms.Affine2D().translate(1, 0)\n",
    "print(matrix)\n",
    "print(line.get_transform().get_matrix())"
   ]
  },
  {
   "cell_type": "code",
   "execution_count": 51,
   "metadata": {},
   "outputs": [
    {
     "name": "stdout",
     "output_type": "stream",
     "text": [
      "[[0.28566504 0.76839233 0.48352928]\n",
      " [0.01911912 0.8128926  0.5646818 ]\n",
      " [0.25187131 0.51519768 0.29889542]]\n",
      "[[1 0 0]\n",
      " [0 0 0]\n",
      " [0 0 0]]\n",
      "0.28566504098790724\n",
      "0.28566504098790724\n"
     ]
    }
   ],
   "source": [
    "import numpy as np\n",
    "aff = transforms.Affine2D().translate(1,0).get_matrix()\n",
    "mat = np.random.rand(3,3)\n",
    "aff = np.diag([1,0,0])\n",
    "print(mat, aff, sep='\\n')\n",
    "print((aff * mat).sum()) \n",
    "masks = {\n",
    "        'sx' : (0,0),\n",
    "        'sy' : (1,1),\n",
    "        'tx' : (0,2),\n",
    "        'ty' : (1,2),\n",
    "    }\n",
    "\n",
    "print(mat[masks['sx']])"
   ]
  },
  {
   "cell_type": "code",
   "execution_count": 13,
   "metadata": {},
   "outputs": [
    {
     "name": "stdout",
     "output_type": "stream",
     "text": [
      "Using matplotlib backend: widget\n",
      "Initial Transform: IdentityTransform()\n"
     ]
    },
    {
     "data": {
      "application/vnd.jupyter.widget-view+json": {
       "model_id": "2fbae074eb5f423a8bf75e7aea6ead56",
       "version_major": 2,
       "version_minor": 0
      },
      "image/png": "[encoded data removed]",
      "text/html": [
       "\n",
       "            <div style=\"display: inline-block;\">\n",
       "                <div class=\"jupyter-widgets widget-label\" style=\"text-align: center;\">\n",
       "                    Figure\n",
       "                </div>\n",
       "                <img src='data:image/png;base64,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' width=640.0/>\n",
       "            </div>\n",
       "        "
      ],
      "text/plain": [
       "Canvas(toolbar=Toolbar(toolitems=[('Home', 'Reset original view', 'home', 'home'), ('Back', 'Back to previous …"
      ]
     },
     "metadata": {},
     "output_type": "display_data"
    }
   ],
   "source": [
    "import matplotlib.pyplot as plt\n",
    "import numpy as np\n",
    "%matplotlib \n",
    "\n",
    "fig, ax = plt.subplots()\n",
    "\n",
    "# Create a scatter point\n",
    "point = ax.scatter([0.5], [0.5], color='red', picker=True)  # Enable picking\n",
    "\n",
    "# Get and print the initial transformation\n",
    "initial_transform = point.get_transform()\n",
    "print(\"Initial Transform:\", initial_transform)\n",
    "\n",
    "# Define a pick event function\n",
    "def on_pick(event):\n",
    "    artist = event.artist\n",
    "    print(\"Picked Artist:\", artist)\n",
    "\n",
    "    # Get and print the new transformation after picking\n",
    "    new_transform = artist.get_transform()\n",
    "    print(\"New Transform:\", new_transform)\n",
    "\n",
    "fig.canvas.mpl_connect(\"pick_event\", on_pick)\n",
    "\n",
    "plt.show()\n"
   ]
  }
 ],
 "metadata": {
  "kernelspec": {
   "display_name": "Python 3",
   "language": "python",
   "name": "python3"
  },
  "language_info": {
   "codemirror_mode": {
    "name": "ipython",
    "version": 3
   },
   "file_extension": ".py",
   "mimetype": "text/x-python",
   "name": "python",
   "nbconvert_exporter": "python",
   "pygments_lexer": "ipython3",
   "version": "3.13.2"
  }
 },
 "nbformat": 4,
 "nbformat_minor": 2
}
