{
 "cells": [
  {
   "cell_type": "code",
   "execution_count": 17,
   "metadata": {},
   "outputs": [
    {
     "name": "stdout",
     "output_type": "stream",
     "text": [
      "['_dom_classes', '_model_module', '_model_module_version', '_model_name', '_msg_callbacks', '_property_lock', '_states_to_send', '_view_count', '_view_module', '_view_module_version', '_view_name', 'behavior', 'comm', 'continuous_update', 'description', 'description_allow_html', 'disabled', 'keys', 'layout', 'log', 'max', 'min', 'orientation', 'readout', 'readout_format', 'step', 'style', 'tabbable', 'tooltip', 'value']\n"
     ]
    },
    {
     "data": {
      "application/vnd.jupyter.widget-view+json": {
       "model_id": "adad73be83f14c11bfb2aa183c6c35cc",
       "version_major": 2,
       "version_minor": 0
      },
      "text/plain": [
       "FloatSlider(value=50.0)"
      ]
     },
     "metadata": {},
     "output_type": "display_data"
    }
   ],
   "source": [
    "'''Find out the internal traitlets of widgets'''\n",
    "import ipywidgets as widgets\n",
    "import traitlets\n",
    "\n",
    "slider = widgets.FloatSlider()\n",
    "slider.value = 50\n",
    "print(slider.trait_names())\n",
    "display(slider)"
   ]
  },
  {
   "cell_type": "code",
   "execution_count": 15,
   "metadata": {},
   "outputs": [
    {
     "name": "stdout",
     "output_type": "stream",
     "text": [
      "None\n",
      "140733352301200\n",
      "2131009547392\n"
     ]
    }
   ],
   "source": [
    "mydict = {}\n",
    "\n",
    "print(mydict.get('3'))\n",
    "print(id(mydict.get('3')))\n",
    "print(id(mydict))"
   ]
  },
  {
   "cell_type": "code",
   "execution_count": 16,
   "metadata": {},
   "outputs": [
    {
     "ename": "AttributeError",
     "evalue": "module 'ipywidgets' has no attribute 'observe'",
     "output_type": "error",
     "traceback": [
      "\u001b[1;31m---------------------------------------------------------------------------\u001b[0m",
      "\u001b[1;31mAttributeError\u001b[0m                            Traceback (most recent call last)",
      "Cell \u001b[1;32mIn[16], line 1\u001b[0m\n\u001b[1;32m----> 1\u001b[0m \u001b[43mwidgets\u001b[49m\u001b[38;5;241;43m.\u001b[39;49m\u001b[43mobserve\u001b[49m(slider, mydict)\n",
      "\u001b[1;31mAttributeError\u001b[0m: module 'ipywidgets' has no attribute 'observe'"
     ]
    }
   ],
   "source": []
  }
 ],
 "metadata": {
  "kernelspec": {
   "display_name": "Python 3",
   "language": "python",
   "name": "python3"
  },
  "language_info": {
   "codemirror_mode": {
    "name": "ipython",
    "version": 3
   },
   "file_extension": ".py",
   "mimetype": "text/x-python",
   "name": "python",
   "nbconvert_exporter": "python",
   "pygments_lexer": "ipython3",
   "version": "3.12.6"
  }
 },
 "nbformat": 4,
 "nbformat_minor": 2
}
